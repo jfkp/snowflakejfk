{
 "cells": [
  {
   "cell_type": "code",
   "execution_count": 1,
   "metadata": {},
   "outputs": [
    {
     "name": "stdout",
     "output_type": "stream",
     "text": [
      "Requirement already satisfied: snowflake-snowpark-python in d:\\training\\snowflake\\snowpark\\lib\\site-packages (1.15.0)\n",
      "Requirement already satisfied: setuptools>=40.6.0 in d:\\training\\snowflake\\snowpark\\lib\\site-packages (from snowflake-snowpark-python) (65.5.0)\n",
      "Requirement already satisfied: wheel in d:\\training\\snowflake\\snowpark\\lib\\site-packages (from snowflake-snowpark-python) (0.43.0)\n",
      "Requirement already satisfied: snowflake-connector-python<4.0.0,>=3.6.0 in d:\\training\\snowflake\\snowpark\\lib\\site-packages (from snowflake-snowpark-python) (3.9.1)\n",
      "Requirement already satisfied: typing-extensions<5.0.0,>=4.1.0 in d:\\training\\snowflake\\snowpark\\lib\\site-packages (from snowflake-snowpark-python) (4.11.0)\n",
      "Requirement already satisfied: pyyaml in d:\\training\\snowflake\\snowpark\\lib\\site-packages (from snowflake-snowpark-python) (6.0.1)\n",
      "Requirement already satisfied: cloudpickle==2.2.1 in d:\\training\\snowflake\\snowpark\\lib\\site-packages (from snowflake-snowpark-python) (2.2.1)\n",
      "Requirement already satisfied: asn1crypto<2.0.0,>0.24.0 in d:\\training\\snowflake\\snowpark\\lib\\site-packages (from snowflake-connector-python<4.0.0,>=3.6.0->snowflake-snowpark-python) (1.5.1)\n",
      "Requirement already satisfied: cffi<2.0.0,>=1.9 in d:\\training\\snowflake\\snowpark\\lib\\site-packages (from snowflake-connector-python<4.0.0,>=3.6.0->snowflake-snowpark-python) (1.16.0)\n",
      "Requirement already satisfied: cryptography<43.0.0,>=3.1.0 in d:\\training\\snowflake\\snowpark\\lib\\site-packages (from snowflake-connector-python<4.0.0,>=3.6.0->snowflake-snowpark-python) (42.0.5)\n",
      "Requirement already satisfied: pyOpenSSL<25.0.0,>=16.2.0 in d:\\training\\snowflake\\snowpark\\lib\\site-packages (from snowflake-connector-python<4.0.0,>=3.6.0->snowflake-snowpark-python) (24.1.0)\n",
      "Requirement already satisfied: pyjwt<3.0.0 in d:\\training\\snowflake\\snowpark\\lib\\site-packages (from snowflake-connector-python<4.0.0,>=3.6.0->snowflake-snowpark-python) (2.8.0)\n",
      "Requirement already satisfied: pytz in d:\\training\\snowflake\\snowpark\\lib\\site-packages (from snowflake-connector-python<4.0.0,>=3.6.0->snowflake-snowpark-python) (2024.1)\n",
      "Requirement already satisfied: requests<3.0.0 in d:\\training\\snowflake\\snowpark\\lib\\site-packages (from snowflake-connector-python<4.0.0,>=3.6.0->snowflake-snowpark-python) (2.31.0)\n",
      "Requirement already satisfied: packaging in d:\\training\\snowflake\\snowpark\\lib\\site-packages (from snowflake-connector-python<4.0.0,>=3.6.0->snowflake-snowpark-python) (24.0)\n",
      "Requirement already satisfied: charset-normalizer<4,>=2 in d:\\training\\snowflake\\snowpark\\lib\\site-packages (from snowflake-connector-python<4.0.0,>=3.6.0->snowflake-snowpark-python) (3.3.2)\n",
      "Requirement already satisfied: idna<4,>=2.5 in d:\\training\\snowflake\\snowpark\\lib\\site-packages (from snowflake-connector-python<4.0.0,>=3.6.0->snowflake-snowpark-python) (3.7)\n",
      "Requirement already satisfied: certifi>=2017.4.17 in d:\\training\\snowflake\\snowpark\\lib\\site-packages (from snowflake-connector-python<4.0.0,>=3.6.0->snowflake-snowpark-python) (2024.2.2)\n",
      "Requirement already satisfied: filelock<4,>=3.5 in d:\\training\\snowflake\\snowpark\\lib\\site-packages (from snowflake-connector-python<4.0.0,>=3.6.0->snowflake-snowpark-python) (3.13.4)\n",
      "Requirement already satisfied: sortedcontainers>=2.4.0 in d:\\training\\snowflake\\snowpark\\lib\\site-packages (from snowflake-connector-python<4.0.0,>=3.6.0->snowflake-snowpark-python) (2.4.0)\n",
      "Requirement already satisfied: platformdirs<5.0.0,>=2.6.0 in d:\\training\\snowflake\\snowpark\\lib\\site-packages (from snowflake-connector-python<4.0.0,>=3.6.0->snowflake-snowpark-python) (4.2.1)\n",
      "Requirement already satisfied: tomlkit in d:\\training\\snowflake\\snowpark\\lib\\site-packages (from snowflake-connector-python<4.0.0,>=3.6.0->snowflake-snowpark-python) (0.12.4)\n",
      "Requirement already satisfied: pycparser in d:\\training\\snowflake\\snowpark\\lib\\site-packages (from cffi<2.0.0,>=1.9->snowflake-connector-python<4.0.0,>=3.6.0->snowflake-snowpark-python) (2.22)\n",
      "Requirement already satisfied: urllib3<3,>=1.21.1 in d:\\training\\snowflake\\snowpark\\lib\\site-packages (from requests<3.0.0->snowflake-connector-python<4.0.0,>=3.6.0->snowflake-snowpark-python) (2.2.1)\n",
      "Note: you may need to restart the kernel to use updated packages.\n"
     ]
    }
   ],
   "source": []
  },
  {
   "cell_type": "code",
   "execution_count": 2,
   "metadata": {},
   "outputs": [],
   "source": [
    "import os\n",
    "import snowflake.snowpark.functions\n",
    "from snowflake.snowpark import Session\n",
    "from snowflake.snowpark.functions import col"
   ]
  },
  {
   "cell_type": "code",
   "execution_count": 3,
   "metadata": {},
   "outputs": [],
   "source": [
    "connection_parameters = {\"account\":\"wkb48950.us-east-1\",\n",
    "\"user\":\"jeanboscokpowadan\",\n",
    "\"password\": 'Tohono123&le',\n",
    "\"role\":\"ACCOUNTADMIN\",\n",
    "\"warehouse\":\"COMPUTE_WH\",\n",
    "\"database\":\"DEMO_DB\",\n",
    "\"schema\":\"PUBLIC\"\n",
    "}"
   ]
  },
  {
   "cell_type": "code",
   "execution_count": 4,
   "metadata": {},
   "outputs": [
    {
     "data": {
      "text/plain": [
       "[Row(status='Statement executed successfully.')]"
      ]
     },
     "execution_count": 4,
     "metadata": {},
     "output_type": "execute_result"
    }
   ],
   "source": [
    "session = Session.builder.configs(connection_parameters).create()\n",
    "session.sql(\"USE WAREHOUSE COMPUTE_WH\").collect()"
   ]
  },
  {
   "cell_type": "code",
   "execution_count": 5,
   "metadata": {},
   "outputs": [
    {
     "name": "stdout",
     "output_type": "stream",
     "text": [
      "----------------------------------------------------------------\n",
      "|\"C_NAME\"            |\"C_ADDRESS\"                              |\n",
      "----------------------------------------------------------------\n",
      "|Customer#000060001  |9Ii4zQn9cX                               |\n",
      "|Customer#000060002  |ThGBMjDwKzkoOxhz                         |\n",
      "|Customer#000060003  |Ed hbPtTXMTAsgGhCr4HuTzK,Md2             |\n",
      "|Customer#000060004  |NivCT2RVaavl,yUnKwBjDyMvB42WayXCnky      |\n",
      "|Customer#000060005  |1F3KM3ccEXEtI, B22XmCMOWJMl              |\n",
      "|Customer#000060006  |3isiXW651fa8p                            |\n",
      "|Customer#000060007  |sp6KJmx,TiSWbMPvhkQwFwTuhSi4a5OLNImpcGI  |\n",
      "|Customer#000060008  |3VteHZYOfbgQioA96tUeL0R7i                |\n",
      "|Customer#000060009  |S60sNpR6wnacPBLeOxjxhvehf                |\n",
      "|Customer#000060010  |c4vEEaV1tdqLdw2oVuXp BN                  |\n",
      "----------------------------------------------------------------\n",
      "\n",
      "------------------------------------------------------------\n",
      "|\"SUMMARY\"  |\"C_NAME\"            |\"C_ADDRESS\"              |\n",
      "------------------------------------------------------------\n",
      "|count      |150000              |150000                   |\n",
      "|max        |Customer#000150000  |zzxGktzXTMKS1BxZlgQ9nqQ  |\n",
      "|mean       |NULL                |NULL                     |\n",
      "|min        |Customer#000000001  |   2uZwVhQvwA            |\n",
      "|stddev     |NULL                |NULL                     |\n",
      "------------------------------------------------------------\n",
      "\n"
     ]
    }
   ],
   "source": [
    "df_customer_info = session.table(\"SNOWFLAKE_SAMPLE_DATA.TPCH_SF1.CUSTOMER\")\n",
    "df_customer_filter = df_customer_info.filter(col(\"C_MKTSEGMENT\") == 'HOUSEHOLD')\n",
    "df_customer_select = df_customer_info.select(col(\"C_NAME\"), col(\"C_ADDRESS\"))\n",
    "df_customer_select.show()\n",
    "df_customer_select.count()\n",
    "\n",
    "\n",
    "df_customer_select.describe().sort(\"SUMMARY\").show()"
   ]
  }
 ],
 "metadata": {
  "kernelspec": {
   "display_name": "Snowpark",
   "language": "python",
   "name": "python3"
  },
  "language_info": {
   "codemirror_mode": {
    "name": "ipython",
    "version": 3
   },
   "file_extension": ".py",
   "mimetype": "text/x-python",
   "name": "python",
   "nbconvert_exporter": "python",
   "pygments_lexer": "ipython3",
   "version": "3.11.9"
  }
 },
 "nbformat": 4,
 "nbformat_minor": 2
}
